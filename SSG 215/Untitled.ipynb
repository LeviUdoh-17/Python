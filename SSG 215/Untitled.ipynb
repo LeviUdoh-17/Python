{
 "cells": [
  {
   "cell_type": "code",
   "execution_count": 78,
   "id": "f296f7b7",
   "metadata": {},
   "outputs": [
    {
     "name": "stdout",
     "output_type": "stream",
     "text": [
      "132\n"
     ]
    }
   ],
   "source": [
    "NumInput = 231\n",
    "num = ''\n",
    "romanNumeral = ''\n",
    "for i in reversed(str(NumInput)):\n",
    "    num += i\n",
    "print(num)"
   ]
  },
  {
   "cell_type": "code",
   "execution_count": 96,
   "id": "415abcfb",
   "metadata": {},
   "outputs": [
    {
     "ename": "TypeError",
     "evalue": "'NoneType' object is not subscriptable",
     "output_type": "error",
     "traceback": [
      "\u001b[1;31m---------------------------------------------------------------------------\u001b[0m",
      "\u001b[1;31mTypeError\u001b[0m                                 Traceback (most recent call last)",
      "\u001b[1;32mC:\\Users\\TINUKE~1\\AppData\\Local\\Temp/ipykernel_5544/1869095314.py\u001b[0m in \u001b[0;36m<module>\u001b[1;34m\u001b[0m\n\u001b[0;32m     16\u001b[0m         \u001b[0mcount\u001b[0m \u001b[1;33m+=\u001b[0m \u001b[1;36m1\u001b[0m\u001b[1;33m\u001b[0m\u001b[1;33m\u001b[0m\u001b[0m\n\u001b[0;32m     17\u001b[0m         \u001b[1;32mreturn\u001b[0m \u001b[0ma\u001b[0m\u001b[1;33m,\u001b[0m \u001b[0mb\u001b[0m\u001b[1;33m,\u001b[0m \u001b[0mc\u001b[0m\u001b[1;33m,\u001b[0m \u001b[0mcount\u001b[0m\u001b[1;33m,\u001b[0m \u001b[0mnumIndex\u001b[0m\u001b[1;33m[\u001b[0m\u001b[0mcount\u001b[0m\u001b[1;33m]\u001b[0m\u001b[1;33m\u001b[0m\u001b[1;33m\u001b[0m\u001b[0m\n\u001b[1;32m---> 18\u001b[1;33m \u001b[0mplaceValues\u001b[0m\u001b[1;33m(\u001b[0m\u001b[0mnum\u001b[0m\u001b[1;33m)\u001b[0m\u001b[1;33m\u001b[0m\u001b[1;33m\u001b[0m\u001b[0m\n\u001b[0m",
      "\u001b[1;32mC:\\Users\\TINUKE~1\\AppData\\Local\\Temp/ipykernel_5544/1869095314.py\u001b[0m in \u001b[0;36mplaceValues\u001b[1;34m(num)\u001b[0m\n\u001b[0;32m      4\u001b[0m     \u001b[1;32mfor\u001b[0m \u001b[0mi\u001b[0m \u001b[1;32min\u001b[0m \u001b[0mnum\u001b[0m\u001b[1;33m:\u001b[0m\u001b[1;33m\u001b[0m\u001b[1;33m\u001b[0m\u001b[0m\n\u001b[0;32m      5\u001b[0m         \u001b[0mnumIndex\u001b[0m \u001b[1;33m=\u001b[0m \u001b[0mnumIndex\u001b[0m\u001b[1;33m.\u001b[0m\u001b[0mappend\u001b[0m\u001b[1;33m(\u001b[0m\u001b[0mnum\u001b[0m\u001b[1;33m.\u001b[0m\u001b[0mindex\u001b[0m\u001b[1;33m(\u001b[0m\u001b[0mi\u001b[0m\u001b[1;33m)\u001b[0m\u001b[1;33m)\u001b[0m\u001b[1;33m\u001b[0m\u001b[1;33m\u001b[0m\u001b[0m\n\u001b[1;32m----> 6\u001b[1;33m         \u001b[1;32mif\u001b[0m \u001b[0mnumIndex\u001b[0m\u001b[1;33m[\u001b[0m\u001b[0mcount\u001b[0m\u001b[1;33m]\u001b[0m \u001b[1;33m==\u001b[0m \u001b[1;36m0\u001b[0m\u001b[1;33m:\u001b[0m\u001b[1;33m\u001b[0m\u001b[1;33m\u001b[0m\u001b[0m\n\u001b[0m\u001b[0;32m      7\u001b[0m             \u001b[0ma\u001b[0m\u001b[1;33m,\u001b[0m \u001b[0mb\u001b[0m\u001b[1;33m,\u001b[0m \u001b[0mc\u001b[0m \u001b[1;33m=\u001b[0m \u001b[1;34m'i'\u001b[0m\u001b[1;33m,\u001b[0m \u001b[1;34m'v'\u001b[0m\u001b[1;33m,\u001b[0m \u001b[1;34m'x'\u001b[0m\u001b[1;33m\u001b[0m\u001b[1;33m\u001b[0m\u001b[0m\n\u001b[0;32m      8\u001b[0m         \u001b[1;32melif\u001b[0m \u001b[0mnumIndex\u001b[0m\u001b[1;33m[\u001b[0m\u001b[0mcount\u001b[0m\u001b[1;33m]\u001b[0m \u001b[1;33m==\u001b[0m \u001b[1;36m1\u001b[0m\u001b[1;33m:\u001b[0m\u001b[1;33m\u001b[0m\u001b[1;33m\u001b[0m\u001b[0m\n",
      "\u001b[1;31mTypeError\u001b[0m: 'NoneType' object is not subscriptable"
     ]
    }
   ],
   "source": [
    "def placeValues(num):\n",
    "    numIndex = []\n",
    "    count = 0\n",
    "    for i in num:\n",
    "        numIndex = numIndex.append(num.index(i))\n",
    "        if numIndex[count] == 0:\n",
    "            a, b, c = 'i', 'v', 'x'\n",
    "        elif numIndex[count] == 1:\n",
    "            a, b, c = 'x', 'l', 'c'\n",
    "        elif numIndex[count] == 2:\n",
    "            a, b, c = 'c', 'd', 'm'\n",
    "        elif numIndex[count] == 3:\n",
    "            a = 'm'\n",
    "        else:\n",
    "            print('Place value error')\n",
    "        count += 1\n",
    "        return a, b, c, count, numIndex[count]\n",
    "placeValues(num)"
   ]
  },
  {
   "cell_type": "code",
   "execution_count": 66,
   "id": "1e0aee31",
   "metadata": {},
   "outputs": [
    {
     "name": "stdout",
     "output_type": "stream",
     "text": [
      "1\n",
      "2\n"
     ]
    },
    {
     "data": {
      "text/plain": [
       "'xll'"
      ]
     },
     "execution_count": 66,
     "metadata": {},
     "output_type": "execute_result"
    }
   ],
   "source": [
    "def Basic(num, a):\n",
    "    answer1 = ''\n",
    "    count = 0\n",
    "    for i in num:\n",
    "        i = int(i)\n",
    "        print(i)\n",
    "        if i < 4 and i > 0 and i != 0:\n",
    "            answer1 += a[count]*i \n",
    "        else:\n",
    "            answer1 = 'error1'\n",
    "        count += 1    \n",
    "    return answer1\n",
    "pValue = placeValues(num)    \n",
    "Basic(num, pValue)"
   ]
  },
  {
   "cell_type": "code",
   "execution_count": null,
   "id": "4e080a39",
   "metadata": {},
   "outputs": [],
   "source": [
    "def Complex(num, a, b=None, c=None):\n",
    "    answer2 = ''\n",
    "    for i in num:\n",
    "        remainder = num - 5\n",
    "        if remainder == -1:\n",
    "            answer2 += (a + b)\n",
    "        elif remainder == 0:\n",
    "            answer2 += b\n",
    "        elif remainder < 4 and remainder > 0:\n",
    "            answer2 += (b + Basic(remainder, a))\n",
    "        elif remainder == 4:\n",
    "            answer2 += (a + c)\n",
    "        else:\n",
    "            answer2 = 'error2'\n",
    "    return answer2\n",
    "Complex(num, a, "
   ]
  }
 ],
 "metadata": {
  "kernelspec": {
   "display_name": "Python 3 (ipykernel)",
   "language": "python",
   "name": "python3"
  },
  "language_info": {
   "codemirror_mode": {
    "name": "ipython",
    "version": 3
   },
   "file_extension": ".py",
   "mimetype": "text/x-python",
   "name": "python",
   "nbconvert_exporter": "python",
   "pygments_lexer": "ipython3",
   "version": "3.9.7"
  }
 },
 "nbformat": 4,
 "nbformat_minor": 5
}
